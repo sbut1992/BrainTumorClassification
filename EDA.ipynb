{
 "cells": [
  {
   "cell_type": "code",
   "execution_count": 13,
   "metadata": {},
   "outputs": [
    {
     "data": {
      "text/html": [
       "        <script type=\"text/javascript\">\n",
       "        window.PlotlyConfig = {MathJaxConfig: 'local'};\n",
       "        if (window.MathJax) {MathJax.Hub.Config({SVG: {font: \"STIX-Web\"}});}\n",
       "        if (typeof require !== 'undefined') {\n",
       "        require.undef(\"plotly\");\n",
       "        requirejs.config({\n",
       "            paths: {\n",
       "                'plotly': ['https://cdn.plot.ly/plotly-latest.min']\n",
       "            }\n",
       "        });\n",
       "        require(['plotly'], function(Plotly) {\n",
       "            window._Plotly = Plotly;\n",
       "        });\n",
       "        }\n",
       "        </script>\n",
       "        "
      ]
     },
     "metadata": {},
     "output_type": "display_data"
    }
   ],
   "source": [
    "import numpy as np \n",
    "from tqdm import tqdm\n",
    "import cv2\n",
    "import os\n",
    "import shutil\n",
    "import itertools\n",
    "import imutils\n",
    "import matplotlib.pyplot as plt\n",
    "from sklearn.preprocessing import LabelBinarizer\n",
    "from sklearn.model_selection import train_test_split\n",
    "from sklearn.metrics import accuracy_score, confusion_matrix\n",
    "\n",
    "import plotly.graph_objs as go\n",
    "from plotly.offline import init_notebook_mode, iplot\n",
    "from plotly import tools\n",
    "\n",
    "from keras.preprocessing.image import ImageDataGenerator\n",
    "from keras.applications.vgg16 import VGG16, preprocess_input\n",
    "from keras.applications import ResNet50\n",
    "from keras import layers\n",
    "from keras.models import Model, Sequential\n",
    "from keras.optimizers import Adam, RMSprop\n",
    "from keras.callbacks import EarlyStopping\n",
    "import keras\n",
    "from scipy.io import loadmat\n",
    "import h5py\n",
    "from PIL import Image\n",
    "import os, zipfile\n",
    "import numpy as np\n",
    "from skimage.feature import greycomatrix, greycoprops\n",
    "from skimage import io, color, img_as_ubyte\n",
    "import random\n",
    "\n",
    "init_notebook_mode(connected=True)\n",
    "RANDOM_SEED = 123"
   ]
  },
  {
   "cell_type": "code",
   "execution_count": 14,
   "metadata": {},
   "outputs": [],
   "source": [
    "import uuid"
   ]
  },
  {
   "cell_type": "code",
   "execution_count": 15,
   "metadata": {},
   "outputs": [],
   "source": [
    "ims = './matlab'\n",
    "directory_to_extract_to = './matlab/'"
   ]
  },
  {
   "cell_type": "code",
   "execution_count": null,
   "metadata": {},
   "outputs": [],
   "source": []
  },
  {
   "cell_type": "code",
   "execution_count": 16,
   "metadata": {},
   "outputs": [],
   "source": [
    "X = []\n",
    "y = []"
   ]
  },
  {
   "cell_type": "code",
   "execution_count": 17,
   "metadata": {},
   "outputs": [],
   "source": [
    "# import zipfile\n",
    "# for file in os.listdir(ims):\n",
    "#     if not file.startswith('.'):\n",
    "#         with zipfile.ZipFile(os.path.join(\"matlab/\",file), 'r') as zip_ref:\n",
    "#             zip_ref.extractall(directory_to_extract_to)"
   ]
  },
  {
   "cell_type": "code",
   "execution_count": 18,
   "metadata": {},
   "outputs": [],
   "source": [
    "ones = './train_mat/1'\n",
    "twos = './train_mat/2'\n",
    "threes = './train_mat/3'"
   ]
  },
  {
   "cell_type": "code",
   "execution_count": 19,
   "metadata": {},
   "outputs": [],
   "source": [
    "for count,val in enumerate(os.listdir(ims)):\n",
    "    if not val.startswith('.'):\n",
    "        file = os.path.join(ims,val)\n",
    "        f = h5py.File(file,'r')\n",
    "        data = f.get('cjdata/image')\n",
    "        label = f.get('cjdata/label')\n",
    "        data = np.array(data)\n",
    "        if label[0][0]==1.0:\n",
    "\n",
    "            cv2.imwrite(os.path.join(ones,str(count)+'.jpg'),data)\n",
    "            X.append(data)\n",
    "            y.append(label[0][0])\n",
    "        elif label[0][0]==2.0:\n",
    "            cv2.imwrite(os.path.join(twos,str(count)+'.jpg'),data)\n",
    "            X.append(data)\n",
    "            y.append(label[0][0])\n",
    "        elif label[0][0]==3.0:\n",
    "            cv2.imwrite(os.path.join(threes,str(count)+'.jpg'),data)\n",
    "            X.append(data)\n",
    "            y.append(label[0][0])\n",
    "\n",
    "\n"
   ]
  },
  {
   "cell_type": "code",
   "execution_count": 20,
   "metadata": {},
   "outputs": [],
   "source": [
    "directory = './train_mat/'"
   ]
  },
  {
   "cell_type": "code",
   "execution_count": 21,
   "metadata": {},
   "outputs": [],
   "source": [
    "shufflingz = os.listdir(directory)"
   ]
  },
  {
   "cell_type": "code",
   "execution_count": 22,
   "metadata": {},
   "outputs": [],
   "source": [
    "random.shuffle(shufflingz)\n"
   ]
  },
  {
   "cell_type": "code",
   "execution_count": 24,
   "metadata": {},
   "outputs": [],
   "source": [
    "for val in os.listdir(directory):\n",
    "    if not val.startswith('.'):\n",
    "        length = len(os.listdir(directory + val))\n",
    "        for (x, y) in enumerate(os.listdir(directory + val)):\n",
    "            img = directory + val + '/' + y\n",
    "            if x % 30 ==0:\n",
    "                shutil.copy(img, 'test_new/' + val + '/' + y)\n",
    "            elif x % 10 == 0:\n",
    "                shutil.copy(img, 'val_new/'+ val + '/' + y)\n",
    "            else:\n",
    "                shutil.copy(img, 'train_new/'+ val + '/' + y)"
   ]
  },
  {
   "cell_type": "code",
   "execution_count": null,
   "metadata": {},
   "outputs": [],
   "source": [
    "# for val in os.listdir(directory):\n",
    "#     if not val.startswith('.'):\n",
    "#         length = len(os.listdir(directory + val))\n",
    "#         for (x, y) in enumerate(os.listdir(directory + val)):\n",
    "#             img = directory + val + '/' + y\n",
    "#             if x % 30:\n",
    "#                 shutil.copy(img, 'test_new/' + val + '/' + y)\n",
    "#             elif x % 0.7*length:\n",
    "#                 shutil.copy(img, 'train_new/'+ val + '/' + y)\n",
    "#             else:\n",
    "#                 shutil.copy(img, 'val_new/'+ val + '/' + y)"
   ]
  },
  {
   "cell_type": "code",
   "execution_count": 10,
   "metadata": {},
   "outputs": [],
   "source": [
    "def crops(type_of_data):\n",
    "    set_new = []\n",
    "\n",
    "    for img in type_of_data:\n",
    "        gray = cv2.cvtColor(img, cv2.COLOR_RGB2GRAY)\n",
    "        gray = cv2.GaussianBlur(gray, (5, 5), 0)\n",
    "        thresh = cv2.threshold(gray, 0, 255, cv2.THRESH_BINARY)[1]\n",
    "        thresh = cv2.erode(thresh, None, iterations=2)\n",
    "        thresh = cv2.dilate(thresh, None, iterations=2)\n",
    "        thresh = cv2.convertScaleAbs(thresh)\n",
    "        cnts = cv2.findContours(thresh.copy(), cv2.RETR_EXTERNAL, cv2.CHAIN_APPROX_SIMPLE)\n",
    "        cnts = imutils.grab_contours(cnts)\n",
    "        c = max(cnts, key=cv2.contourArea)\n",
    "\n",
    "        extLeft = tuple(c[c[:, :, 0].argmin()][0])\n",
    "        extRight = tuple(c[c[:, :, 0].argmax()][0])\n",
    "        extTop = tuple(c[c[:, :, 1].argmin()][0])\n",
    "        extBot = tuple(c[c[:, :, 1].argmax()][0])\n",
    "\n",
    "        ADD_PIXELS = 0\n",
    "        new_img = img[extTop[1]-ADD_PIXELS:extBot[1]+ADD_PIXELS, extLeft[0]-ADD_PIXELS:extRight[0]+ADD_PIXELS].copy()\n",
    "        set_new.append(new_img)\n",
    "    return np.array(set_new)\n"
   ]
  },
  {
   "cell_type": "code",
   "execution_count": 11,
   "metadata": {},
   "outputs": [],
   "source": [
    "def loading_data(training_directory):\n",
    "    counter = 0\n",
    "    storage = dict()\n",
    "    X = []\n",
    "    y = []\n",
    "    for val in sorted(os.listdir(training_directory)):\n",
    "        if not val.startswith('.'):\n",
    "            storage[counter] = val\n",
    "            for valtwo in os.listdir(training_directory + val):\n",
    "                if not valtwo.startswith('.'):\n",
    "                    img = cv2.imread(training_directory+val+'/'+valtwo)\n",
    "                    X.append(img)\n",
    "                    y.append(counter)\n",
    "            counter+=1\n",
    "    X = np.array(X)\n",
    "    y = np.array(y)\n",
    "    \n",
    "    return X,y,storage\n",
    "    "
   ]
  },
  {
   "cell_type": "code",
   "execution_count": 12,
   "metadata": {},
   "outputs": [],
   "source": [
    "training_directory = './train_new/'\n",
    "testing_directory = './test_new/'\n",
    "validation_directory = './val_new/'"
   ]
  },
  {
   "cell_type": "code",
   "execution_count": 13,
   "metadata": {},
   "outputs": [],
   "source": [
    "X_train,y_train,storage = loading_data(training_directory)\n",
    "X_test, y_test, _ = loading_data(testing_directory)\n",
    "X_val, y_val,_ = loading_data(validation_directory)"
   ]
  },
  {
   "cell_type": "code",
   "execution_count": 14,
   "metadata": {},
   "outputs": [],
   "source": [
    "X_train_crop = crops(X_train)\n",
    "X_val_crop = crops(X_val)\n",
    "X_test_crop = crops(X_test)"
   ]
  },
  {
   "cell_type": "code",
   "execution_count": 15,
   "metadata": {},
   "outputs": [],
   "source": [
    "def save_crops(Xs,Ys, folder):\n",
    "    val = -1\n",
    "\n",
    "    for (image, image_class) in zip(Xs,Ys):\n",
    "        val+=1\n",
    "        if image_class == 0:\n",
    "            cv2.imwrite(os.path.join(folder,'1/'+str(val)+'.jpg'),image)\n",
    "        elif image_class == 1:\n",
    "            cv2.imwrite(os.path.join(folder,'2/'+str(val)+'.jpg'),image)\n",
    "        else:\n",
    "            cv2.imwrite(os.path.join(folder,'3/'+str(val)+'.jpg'),image)\n",
    "\n",
    "            "
   ]
  },
  {
   "cell_type": "code",
   "execution_count": 16,
   "metadata": {},
   "outputs": [],
   "source": [
    "save_crops(X_train_crop, y_train, folder = 'train_crop_new/')\n"
   ]
  },
  {
   "cell_type": "code",
   "execution_count": 17,
   "metadata": {},
   "outputs": [],
   "source": [
    "save_crops(X_test_crop, y_test, folder = 'test_crop_new/')\n"
   ]
  },
  {
   "cell_type": "code",
   "execution_count": 18,
   "metadata": {},
   "outputs": [],
   "source": [
    "save_crops(X_val_crop, y_val, folder = 'val_crop_new/')"
   ]
  },
  {
   "cell_type": "code",
   "execution_count": 19,
   "metadata": {},
   "outputs": [
    {
     "data": {
      "text/plain": [
       "468"
      ]
     },
     "execution_count": 19,
     "metadata": {},
     "output_type": "execute_result"
    }
   ],
   "source": [
    "len(os.listdir('./train_crop_new/1'))"
   ]
  },
  {
   "cell_type": "code",
   "execution_count": null,
   "metadata": {},
   "outputs": [],
   "source": []
  },
  {
   "cell_type": "code",
   "execution_count": 60,
   "metadata": {},
   "outputs": [],
   "source": [
    "IMG_SIZE = (224,224)"
   ]
  },
  {
   "cell_type": "code",
   "execution_count": 2,
   "metadata": {},
   "outputs": [],
   "source": [
    "def resize_ims(type_of_data,size):\n",
    "    new_set = []\n",
    "    \n",
    "    for val in type_of_data:\n",
    "        val = cv2.resize(val, dsize=size,interpolation=cv2.INTER_CUBIC)\n",
    "        \n",
    "        new_set.append(preprocess_input(val))\n",
    "    return np.array(new_set)"
   ]
  },
  {
   "cell_type": "code",
   "execution_count": 207,
   "metadata": {},
   "outputs": [],
   "source": [
    "X_train_prep = resize_ims(X_train_crop,size=IMG_SIZE)\n",
    "X_test_prep = resize_ims(X_test_crop,size=IMG_SIZE)\n",
    "X_val_prep = resize_ims(X_val_crop,size=IMG_SIZE)"
   ]
  },
  {
   "cell_type": "code",
   "execution_count": 5,
   "metadata": {},
   "outputs": [],
   "source": [
    "TRAIN_DIR = 'train_crop_new/'\n",
    "VAL_DIR = 'val_crop_new'\n"
   ]
  },
  {
   "cell_type": "code",
   "execution_count": 9,
   "metadata": {},
   "outputs": [
    {
     "name": "stdout",
     "output_type": "stream",
     "text": [
      "/Users/shonbutani/Downloads/Brain_Tumor_Dataset2/train_crop_new\n"
     ]
    }
   ],
   "source": [
    "cd train_crop_new\n"
   ]
  },
  {
   "cell_type": "code",
   "execution_count": 10,
   "metadata": {},
   "outputs": [
    {
     "name": "stdout",
     "output_type": "stream",
     "text": [
      "/Users/shonbutani/Downloads/Brain_Tumor_Dataset2/train_crop_new/1\n"
     ]
    }
   ],
   "source": [
    "cd 1"
   ]
  },
  {
   "cell_type": "code",
   "execution_count": null,
   "metadata": {},
   "outputs": [],
   "source": []
  },
  {
   "cell_type": "code",
   "execution_count": null,
   "metadata": {},
   "outputs": [],
   "source": []
  }
 ],
 "metadata": {
  "kernelspec": {
   "display_name": "Python 3",
   "language": "python",
   "name": "python3"
  },
  "language_info": {
   "codemirror_mode": {
    "name": "ipython",
    "version": 3
   },
   "file_extension": ".py",
   "mimetype": "text/x-python",
   "name": "python",
   "nbconvert_exporter": "python",
   "pygments_lexer": "ipython3",
   "version": "3.6.8"
  }
 },
 "nbformat": 4,
 "nbformat_minor": 2
}
